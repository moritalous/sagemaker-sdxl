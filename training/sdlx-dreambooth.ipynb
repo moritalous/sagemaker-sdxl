{
 "cells": [
  {
   "cell_type": "markdown",
   "id": "2a88cd0e-5e7e-4433-8ca7-19ebb6dea7ee",
   "metadata": {},
   "source": [
    "https://github.com/huggingface/diffusers/blob/main/examples/dreambooth/README_sdxl.md"
   ]
  },
  {
   "cell_type": "code",
   "execution_count": null,
   "id": "bcb4d8ea-c7aa-4df9-80b9-8813a904128c",
   "metadata": {
    "scrolled": true
   },
   "outputs": [],
   "source": [
    "%%bash\n",
    "\n",
    "git clone https://github.com/huggingface/diffusers\n",
    "cd diffusers\n",
    "pip install -e ."
   ]
  },
  {
   "cell_type": "code",
   "execution_count": null,
   "id": "fa7f87c7-7b3e-4fce-b819-433a3870cae4",
   "metadata": {
    "scrolled": true
   },
   "outputs": [],
   "source": [
    "%pip install -r requirements_sdxl.txt"
   ]
  },
  {
   "cell_type": "code",
   "execution_count": null,
   "id": "0ebee0e9-b6a0-40e3-9cf8-e45b3e8e439d",
   "metadata": {},
   "outputs": [],
   "source": [
    "from accelerate.utils import write_basic_config\n",
    "write_basic_config()"
   ]
  },
  {
   "cell_type": "code",
   "execution_count": null,
   "id": "00ab29c0-8013-4970-8f1d-97c2be845317",
   "metadata": {},
   "outputs": [],
   "source": [
    "%%bash\n",
    "aws s3 sync s3://sagemaker-sdxl/input/dog ./dog"
   ]
  },
  {
   "cell_type": "code",
   "execution_count": null,
   "id": "83ecc409-7fff-44ef-8e42-92048dc1a281",
   "metadata": {
    "scrolled": true
   },
   "outputs": [],
   "source": [
    "# from huggingface_hub import snapshot_download\n",
    "\n",
    "# local_dir = \"./dog\"\n",
    "# snapshot_download(\n",
    "#     \"diffusers/dog-example\",\n",
    "#     local_dir=local_dir, repo_type=\"dataset\",\n",
    "#     ignore_patterns=\".gitattributes\",\n",
    "# )\n"
   ]
  },
  {
   "cell_type": "code",
   "execution_count": null,
   "id": "f45ef492-1715-4c9e-8885-29d4f67293bc",
   "metadata": {
    "scrolled": true
   },
   "outputs": [],
   "source": [
    "%%bash\n",
    "\n",
    "export MODEL_NAME=\"stabilityai/stable-diffusion-xl-base-1.0\"\n",
    "export INSTANCE_DIR=\"dog\"\n",
    "export OUTPUT_DIR=\"lora-trained-xl\"\n",
    "export VAE_PATH=\"madebyollin/sdxl-vae-fp16-fix\"\n",
    "\n",
    "accelerate launch train_dreambooth_lora_sdxl.py \\\n",
    "  --pretrained_model_name_or_path=$MODEL_NAME  \\\n",
    "  --instance_data_dir=$INSTANCE_DIR \\\n",
    "  --pretrained_vae_model_name_or_path=$VAE_PATH \\\n",
    "  --output_dir=$OUTPUT_DIR \\\n",
    "  --enable_xformers_memory_efficient_attention \\\n",
    "  --gradient_checkpointing \\\n",
    "  --use_8bit_adam \\\n",
    "  --mixed_precision=\"fp16\" \\\n",
    "  --instance_prompt=\"a photo of sks dog\" \\\n",
    "  --resolution=1024 \\\n",
    "  --train_batch_size=1 \\\n",
    "  --gradient_accumulation_steps=4 \\\n",
    "  --learning_rate=1e-4 \\\n",
    "  --lr_scheduler=\"constant\" \\\n",
    "  --lr_warmup_steps=0 \\\n",
    "  --max_train_steps=500 \\\n",
    "  --seed=\"0\"\n"
   ]
  },
  {
   "cell_type": "code",
   "execution_count": null,
   "id": "bde76ddc-ea29-4b3e-a3b2-7f1ac4c77ed2",
   "metadata": {},
   "outputs": [],
   "source": [
    "%%bash\n",
    "aws s3 sync ./lora-trained-xl s3://sagemaker-sdxl/output/`date +%s`/lora-trained-xl"
   ]
  }
 ],
 "metadata": {
  "kernelspec": {
   "display_name": "Python 3 (ipykernel)",
   "language": "python",
   "name": "python3"
  },
  "language_info": {
   "codemirror_mode": {
    "name": "ipython",
    "version": 3
   },
   "file_extension": ".py",
   "mimetype": "text/x-python",
   "name": "python",
   "nbconvert_exporter": "python",
   "pygments_lexer": "ipython3",
   "version": "3.10.14"
  }
 },
 "nbformat": 4,
 "nbformat_minor": 5
}
